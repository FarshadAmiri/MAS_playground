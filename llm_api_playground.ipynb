{
 "cells": [
  {
   "cell_type": "code",
   "execution_count": 4,
   "id": "98718b2d",
   "metadata": {},
   "outputs": [],
   "source": [
    "import os\n",
    "os.chdir(r\"D:\\Git_repos\\MAS_playground\")\n",
    "import api_call_functions"
   ]
  },
  {
   "cell_type": "markdown",
   "id": "0716d657",
   "metadata": {},
   "source": [
    "Work with Metis API"
   ]
  },
  {
   "cell_type": "code",
   "execution_count": null,
   "id": "3e58ac72",
   "metadata": {},
   "outputs": [],
   "source": [
    "from openai import OpenAI\n",
    "import requests\n",
    "\n",
    "\n",
    "def openai_call(sys_prompt, user_prompt, api_key, base_url=\"https://api.metisai.ir/openai/v1\"):\n",
    "    client = OpenAI(api_key=api_key, base_url=base_url)\n",
    "\n",
    "    response = client.chat.completions.create(\n",
    "        model=\"gpt-4o\",\n",
    "        messages=[\n",
    "            {\"role\": \"system\", \"content\": sys_prompt},\n",
    "            {\"role\": \"user\", \"content\": user_prompt}\n",
    "        ]\n",
    "    )\n",
    "    return response.choices[0].message.content\n",
    "\n",
    "\n",
    "def start_chat(api_key, bot_id, user_prompt):\n",
    "    url = \"https://api.metisai.ir/api/v1/chat/session\"\n",
    "    headers = {\n",
    "        \"Authorization\": f\"Bearer {api_key}\",\n",
    "        \"Content-Type\": \"application/json\"\n",
    "    }\n",
    "    payload = {\n",
    "        \"botId\": bot_id,\n",
    "        \"user\": None,\n",
    "        \"initialMessages\": [\n",
    "            {\n",
    "                \"type\": \"USER\",\n",
    "                \"content\": user_prompt\n",
    "            }\n",
    "        ]\n",
    "    }\n",
    "\n",
    "    response = requests.post(url, headers=headers, json=payload)\n",
    "    \n",
    "    if response.status_code != 200:\n",
    "        print(\"❌ Metis API Error:\")\n",
    "        print(f\"Status Code: {response.status_code}\")\n",
    "        print(f\"Response Text: {response.text}\")\n",
    "        raise Exception(\"Failed to get response from Metis API.\")\n",
    "\n",
    "    return response.json()\n",
    "\n",
    "\n",
    "def continue_session(api_key, session_id, user_prompt):\n",
    "    url = f\"https://api.metisai.ir/api/v1/chat/session/{session_id}/message\"\n",
    "    headers = {\n",
    "        \"Authorization\": f\"Bearer {api_key}\",\n",
    "        \"Content-Type\": \"application/json\"\n",
    "    }\n",
    "    payload = {\n",
    "        \"message\": {\n",
    "            \"content\": user_prompt,\n",
    "            \"type\": \"USER\"\n",
    "        }\n",
    "    }\n",
    "\n",
    "    response = requests.post(url, headers=headers, json=payload)\n",
    "\n",
    "    if response.status_code != 200:\n",
    "        print(\"❌ Error sending message:\")\n",
    "        print(f\"Status Code: {response.status_code}\")\n",
    "        print(f\"Response: {response.text}\")\n",
    "        raise Exception(\"Failed to send message to Metis session.\")\n",
    "\n",
    "    return response.json()\n"
   ]
  },
  {
   "cell_type": "code",
   "execution_count": 27,
   "id": "f97368c9",
   "metadata": {},
   "outputs": [],
   "source": [
    "api_key = \"tpsg-tMLXhjGxa2E18Pw6vCRINcgtD3PblTI\"\n",
    "bot_gem_2_flash_id = \"a50a21f2-a191-4f4a-bd17-bcfee112a847\"\n",
    "\n",
    "user_prompt = \"what will be the most influential advancement and technology that human being can ever attain? what is your opinion?\"\n",
    "# user_prompt = \"hey\"\n",
    "\n",
    "res = metis_call(api_key, bot_gem_2_flash_id, user_prompt)\n"
   ]
  },
  {
   "cell_type": "code",
   "execution_count": 28,
   "id": "9939821c",
   "metadata": {},
   "outputs": [
    {
     "data": {
      "text/plain": [
       "'what will be the most influential advancement and technology that human being can ever attain? what is your opinion?'"
      ]
     },
     "execution_count": 28,
     "metadata": {},
     "output_type": "execute_result"
    }
   ],
   "source": [
    "answer = res[\"messages\"][0][\"content\"]\n",
    "answer"
   ]
  },
  {
   "cell_type": "code",
   "execution_count": 29,
   "id": "d047567f",
   "metadata": {},
   "outputs": [
    {
     "data": {
      "text/plain": [
       "{'id': 'fa3543b3-9939-4d6d-81c8-ff34dfe88e21',\n",
       " 'botId': 'a50a21f2-a191-4f4a-bd17-bcfee112a847',\n",
       " 'user': None,\n",
       " 'messages': [{'id': '5a4fca45-64d1-4093-a9f3-bd666db3a0b4',\n",
       "   'type': 'USER',\n",
       "   'content': 'what will be the most influential advancement and technology that human being can ever attain? what is your opinion?',\n",
       "   'input': None,\n",
       "   'actions': None,\n",
       "   'tasks': None,\n",
       "   'attachments': None,\n",
       "   'timestamp': 1752254732212,\n",
       "   'finishReason': 'STOP',\n",
       "   'citations': None,\n",
       "   'toolCalls': None,\n",
       "   'rag': None,\n",
       "   'billing': None,\n",
       "   'googleSearchQuery': None}],\n",
       " 'startDate': 1752254732208,\n",
       " 'headline': None}"
      ]
     },
     "execution_count": 29,
     "metadata": {},
     "output_type": "execute_result"
    }
   ],
   "source": [
    "res"
   ]
  },
  {
   "cell_type": "code",
   "execution_count": 26,
   "id": "56944bf5",
   "metadata": {},
   "outputs": [
    {
     "data": {
      "text/plain": [
       "{'id': '6797cd39-93cc-46be-9c61-4045b81f384f',\n",
       " 'type': 'AI',\n",
       " 'content': 'No, Elon Musk did not found Oracle. Oracle was founded by Larry Ellison, Bob Miner, and Ed Oates in 1977. Elon Musk is known for co-founding or founding companies like Tesla, SpaceX, PayPal (originally X.com), Neuralink, and The Boring Company.\\n',\n",
       " 'input': None,\n",
       " 'actions': None,\n",
       " 'tasks': None,\n",
       " 'attachments': None,\n",
       " 'timestamp': 1752253752630,\n",
       " 'finishReason': 'STOP',\n",
       " 'citations': None,\n",
       " 'toolCalls': None,\n",
       " 'rag': None,\n",
       " 'billing': {'cost': 3.24e-05},\n",
       " 'googleSearchQuery': None}"
      ]
     },
     "execution_count": 26,
     "metadata": {},
     "output_type": "execute_result"
    }
   ],
   "source": [
    "session_id = \"661b9f8d-011e-44d4-8497-b9e35782e8e8\" \n",
    "\n",
    "user_prompt = \"did he found Orcale?\"\n",
    "res = metis_call_to_a_session(api_key, session_id , user_prompt)\n",
    "res"
   ]
  }
 ],
 "metadata": {
  "kernelspec": {
   "display_name": "Python 3 (ipykernel)",
   "language": "python",
   "name": "python3"
  },
  "language_info": {
   "codemirror_mode": {
    "name": "ipython",
    "version": 3
   },
   "file_extension": ".py",
   "mimetype": "text/x-python",
   "name": "python",
   "nbconvert_exporter": "python",
   "pygments_lexer": "ipython3",
   "version": "3.13.3"
  }
 },
 "nbformat": 4,
 "nbformat_minor": 5
}
